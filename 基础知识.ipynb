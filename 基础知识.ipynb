{
 "cells": [
  {
   "cell_type": "markdown",
   "metadata": {},
   "source": [
    "### 数据操作\n",
    "##### 创建NDarray"
   ]
  },
  {
   "cell_type": "markdown",
   "metadata": {},
   "source": [
    "`nd.arange()` \n",
    "\n",
    "`x.shape `返回形状\n",
    "\n",
    "`x.size `返回元素个数\n",
    "\n",
    "`x.reshape(m, n)`\n",
    "- -1的省去维度的计算\n",
    "\n",
    "`nd.zeros(shape = (w, h, d))`\n",
    "\n",
    "`nd.ones(shape = ())`\n",
    "\n",
    "`nd.random.normal(均值，方差， shape = ())`"
   ]
  },
  {
   "cell_type": "code",
   "execution_count": 1,
   "metadata": {
    "ExecuteTime": {
     "end_time": "2019-08-28T01:31:20.305571Z",
     "start_time": "2019-08-28T01:30:56.231638Z"
    }
   },
   "outputs": [],
   "source": [
    "from mxnet import nd"
   ]
  },
  {
   "cell_type": "code",
   "execution_count": 3,
   "metadata": {
    "ExecuteTime": {
     "end_time": "2019-08-28T01:31:53.096527Z",
     "start_time": "2019-08-28T01:31:53.062636Z"
    }
   },
   "outputs": [
    {
     "data": {
      "text/plain": [
       "\n",
       "[ 0.  1.  2.  3.  4.  5.  6.  7.  8.  9. 10. 11.]\n",
       "<NDArray 12 @cpu(0)>"
      ]
     },
     "execution_count": 3,
     "metadata": {},
     "output_type": "execute_result"
    }
   ],
   "source": [
    "x = nd.arange(12)\n",
    "x"
   ]
  },
  {
   "cell_type": "code",
   "execution_count": 4,
   "metadata": {
    "ExecuteTime": {
     "end_time": "2019-08-28T01:32:49.796836Z",
     "start_time": "2019-08-28T01:32:49.788450Z"
    }
   },
   "outputs": [
    {
     "data": {
      "text/plain": [
       "(12,)"
      ]
     },
     "execution_count": 4,
     "metadata": {},
     "output_type": "execute_result"
    }
   ],
   "source": [
    "x.shape"
   ]
  },
  {
   "cell_type": "code",
   "execution_count": 5,
   "metadata": {
    "ExecuteTime": {
     "end_time": "2019-08-28T01:33:26.610327Z",
     "start_time": "2019-08-28T01:33:26.602681Z"
    }
   },
   "outputs": [
    {
     "data": {
      "text/plain": [
       "12"
      ]
     },
     "execution_count": 5,
     "metadata": {},
     "output_type": "execute_result"
    }
   ],
   "source": [
    "x.size"
   ]
  },
  {
   "cell_type": "code",
   "execution_count": 8,
   "metadata": {
    "ExecuteTime": {
     "end_time": "2019-08-28T01:34:23.049295Z",
     "start_time": "2019-08-28T01:34:23.037822Z"
    }
   },
   "outputs": [
    {
     "data": {
      "text/plain": [
       "\n",
       "[[ 0.  1.  2.  3.]\n",
       " [ 4.  5.  6.  7.]\n",
       " [ 8.  9. 10. 11.]]\n",
       "<NDArray 3x4 @cpu(0)>"
      ]
     },
     "execution_count": 8,
     "metadata": {},
     "output_type": "execute_result"
    }
   ],
   "source": [
    "X = x.reshape(3,4)\n",
    "X"
   ]
  },
  {
   "cell_type": "markdown",
   "metadata": {},
   "source": [
    "- x.reshape() 中-1的元素的个数可以由总的个数和其他维度的大小推断出"
   ]
  },
  {
   "cell_type": "code",
   "execution_count": 11,
   "metadata": {
    "ExecuteTime": {
     "end_time": "2019-08-28T01:36:27.995104Z",
     "start_time": "2019-08-28T01:36:27.987349Z"
    }
   },
   "outputs": [
    {
     "data": {
      "text/plain": [
       "\n",
       "[[ 0.  1.  2.]\n",
       " [ 3.  4.  5.]\n",
       " [ 6.  7.  8.]\n",
       " [ 9. 10. 11.]]\n",
       "<NDArray 4x3 @cpu(0)>"
      ]
     },
     "execution_count": 11,
     "metadata": {},
     "output_type": "execute_result"
    }
   ],
   "source": [
    "x.reshape(-1, 3)"
   ]
  },
  {
   "cell_type": "code",
   "execution_count": 12,
   "metadata": {
    "ExecuteTime": {
     "end_time": "2019-08-28T01:36:30.118115Z",
     "start_time": "2019-08-28T01:36:30.110513Z"
    }
   },
   "outputs": [
    {
     "data": {
      "text/plain": [
       "\n",
       "[[ 0.  1.  2.  3.  4.  5.]\n",
       " [ 6.  7.  8.  9. 10. 11.]]\n",
       "<NDArray 2x6 @cpu(0)>"
      ]
     },
     "execution_count": 12,
     "metadata": {},
     "output_type": "execute_result"
    }
   ],
   "source": [
    "x.reshape(2, -1)"
   ]
  },
  {
   "cell_type": "code",
   "execution_count": 15,
   "metadata": {
    "ExecuteTime": {
     "end_time": "2019-08-28T01:37:51.041586Z",
     "start_time": "2019-08-28T01:37:51.025947Z"
    }
   },
   "outputs": [
    {
     "data": {
      "text/plain": [
       "\n",
       "[[[0. 0. 0. 0.]\n",
       "  [0. 0. 0. 0.]\n",
       "  [0. 0. 0. 0.]]\n",
       "\n",
       " [[0. 0. 0. 0.]\n",
       "  [0. 0. 0. 0.]\n",
       "  [0. 0. 0. 0.]]]\n",
       "<NDArray 2x3x4 @cpu(0)>"
      ]
     },
     "execution_count": 15,
     "metadata": {},
     "output_type": "execute_result"
    }
   ],
   "source": [
    "nd.zeros((2, 3, 4))\n",
    "# zeros(shape, ctx, dtype, stype, **kwargs)"
   ]
  },
  {
   "cell_type": "code",
   "execution_count": 17,
   "metadata": {
    "ExecuteTime": {
     "end_time": "2019-08-28T01:38:23.980176Z",
     "start_time": "2019-08-28T01:38:23.967816Z"
    }
   },
   "outputs": [
    {
     "data": {
      "text/plain": [
       "\n",
       "[[1. 1. 1. 1.]\n",
       " [1. 1. 1. 1.]\n",
       " [1. 1. 1. 1.]]\n",
       "<NDArray 3x4 @cpu(0)>"
      ]
     },
     "execution_count": 17,
     "metadata": {},
     "output_type": "execute_result"
    }
   ],
   "source": [
    "nd.ones((3,4))"
   ]
  },
  {
   "cell_type": "code",
   "execution_count": 21,
   "metadata": {
    "ExecuteTime": {
     "end_time": "2019-08-28T01:40:34.273097Z",
     "start_time": "2019-08-28T01:40:34.265472Z"
    }
   },
   "outputs": [
    {
     "data": {
      "text/plain": [
       "\n",
       "[[1. 2. 3.]\n",
       " [4. 5. 6.]\n",
       " [7. 8. 9.]]\n",
       "<NDArray 3x3 @cpu(0)>"
      ]
     },
     "execution_count": 21,
     "metadata": {},
     "output_type": "execute_result"
    }
   ],
   "source": [
    "Y = nd.array([[1, 2, 3],\n",
    "            [4, 5, 6],\n",
    "            [7, 8, 9]])\n",
    "Y"
   ]
  },
  {
   "cell_type": "code",
   "execution_count": 25,
   "metadata": {
    "ExecuteTime": {
     "end_time": "2019-08-28T01:43:08.267078Z",
     "start_time": "2019-08-28T01:43:08.258302Z"
    }
   },
   "outputs": [
    {
     "data": {
      "text/plain": [
       "\n",
       "[[-0.68106437 -0.13531584  0.37723127  0.41016445]\n",
       " [ 0.5712682  -2.7579627   1.07628    -0.6141326 ]\n",
       " [ 1.8307649  -1.1468065   0.05383795 -2.5074806 ]]\n",
       "<NDArray 3x4 @cpu(0)>"
      ]
     },
     "execution_count": 25,
     "metadata": {},
     "output_type": "execute_result"
    }
   ],
   "source": [
    "nd.random.normal(0, 1, shape = (3, 4))\n",
    "# normal(loc, scale, shape, dtype, ctx, out, **kwargs)"
   ]
  },
  {
   "cell_type": "markdown",
   "metadata": {
    "ExecuteTime": {
     "end_time": "2019-08-28T01:44:59.153648Z",
     "start_time": "2019-08-28T01:44:59.145782Z"
    }
   },
   "source": [
    "##### NDarray 运算\n",
    "支持运算符+，- ，\\*， /\n",
    "\n",
    "其中\\*，/为对应位元素相乘（除）"
   ]
  },
  {
   "cell_type": "code",
   "execution_count": 31,
   "metadata": {
    "ExecuteTime": {
     "end_time": "2019-08-28T01:56:31.392627Z",
     "start_time": "2019-08-28T01:56:31.387640Z"
    }
   },
   "outputs": [
    {
     "data": {
      "text/plain": [
       "\n",
       "[[ 0.  1.  2.  3.]\n",
       " [ 4.  5.  6.  7.]\n",
       " [ 8.  9. 10. 11.]]\n",
       "<NDArray 3x4 @cpu(0)>"
      ]
     },
     "execution_count": 31,
     "metadata": {},
     "output_type": "execute_result"
    }
   ],
   "source": [
    "X = x.reshape(3,4)\n",
    "X"
   ]
  },
  {
   "cell_type": "code",
   "execution_count": 32,
   "metadata": {
    "ExecuteTime": {
     "end_time": "2019-08-28T01:56:33.671676Z",
     "start_time": "2019-08-28T01:56:33.665173Z"
    }
   },
   "outputs": [
    {
     "data": {
      "text/plain": [
       "\n",
       "[[2. 2. 2. 2.]\n",
       " [2. 2. 2. 2.]\n",
       " [2. 2. 2. 2.]]\n",
       "<NDArray 3x4 @cpu(0)>"
      ]
     },
     "execution_count": 32,
     "metadata": {},
     "output_type": "execute_result"
    }
   ],
   "source": [
    "Y = nd.ones((3,4)) * 2\n",
    "Y"
   ]
  },
  {
   "cell_type": "code",
   "execution_count": 33,
   "metadata": {
    "ExecuteTime": {
     "end_time": "2019-08-28T01:56:50.765639Z",
     "start_time": "2019-08-28T01:56:50.752131Z"
    }
   },
   "outputs": [
    {
     "data": {
      "text/plain": [
       "\n",
       "[[0.  0.5 1.  1.5]\n",
       " [2.  2.5 3.  3.5]\n",
       " [4.  4.5 5.  5.5]]\n",
       "<NDArray 3x4 @cpu(0)>"
      ]
     },
     "execution_count": 33,
     "metadata": {},
     "output_type": "execute_result"
    }
   ],
   "source": [
    "X / Y"
   ]
  },
  {
   "cell_type": "code",
   "execution_count": 34,
   "metadata": {
    "ExecuteTime": {
     "end_time": "2019-08-28T01:57:40.693411Z",
     "start_time": "2019-08-28T01:57:40.679906Z"
    }
   },
   "outputs": [
    {
     "data": {
      "text/plain": [
       "\n",
       "[[1.0000000e+00 2.7182817e+00 7.3890562e+00 2.0085537e+01]\n",
       " [5.4598148e+01 1.4841316e+02 4.0342880e+02 1.0966332e+03]\n",
       " [2.9809580e+03 8.1030840e+03 2.2026465e+04 5.9874141e+04]]\n",
       "<NDArray 3x4 @cpu(0)>"
      ]
     },
     "execution_count": 34,
     "metadata": {},
     "output_type": "execute_result"
    }
   ],
   "source": [
    "# e的指数运算\n",
    "X.exp()"
   ]
  },
  {
   "cell_type": "code",
   "execution_count": 46,
   "metadata": {
    "ExecuteTime": {
     "end_time": "2019-08-28T02:08:18.904255Z",
     "start_time": "2019-08-28T02:08:18.896244Z"
    }
   },
   "outputs": [
    {
     "data": {
      "text/plain": [
       "((3, 4), (3, 4))"
      ]
     },
     "execution_count": 46,
     "metadata": {},
     "output_type": "execute_result"
    }
   ],
   "source": [
    "# 矩阵乘法\n",
    "X.shape, Y.shape"
   ]
  },
  {
   "cell_type": "code",
   "execution_count": 45,
   "metadata": {
    "ExecuteTime": {
     "end_time": "2019-08-28T02:06:58.887527Z",
     "start_time": "2019-08-28T02:06:58.880547Z"
    }
   },
   "outputs": [
    {
     "data": {
      "text/plain": [
       "\n",
       "[[12. 12. 12.]\n",
       " [44. 44. 44.]\n",
       " [76. 76. 76.]]\n",
       "<NDArray 3x3 @cpu(0)>"
      ]
     },
     "execution_count": 45,
     "metadata": {},
     "output_type": "execute_result"
    }
   ],
   "source": [
    "nd.dot(X, Y.T)"
   ]
  },
  {
   "cell_type": "code",
   "execution_count": 50,
   "metadata": {
    "ExecuteTime": {
     "end_time": "2019-08-28T02:12:12.894717Z",
     "start_time": "2019-08-28T02:12:12.888209Z"
    }
   },
   "outputs": [
    {
     "data": {
      "text/plain": [
       "\n",
       "[[ 0.  1.  2.  3.  2.  2.  2.  2.]\n",
       " [ 4.  5.  6.  7.  2.  2.  2.  2.]\n",
       " [ 8.  9. 10. 11.  2.  2.  2.  2.]]\n",
       "<NDArray 3x8 @cpu(0)>"
      ]
     },
     "execution_count": 50,
     "metadata": {},
     "output_type": "execute_result"
    }
   ],
   "source": [
    "nd.concat(X, Y)\n",
    "# 相当于dim = 最后一个维度，即在该维度上进行拼接扩展；此处dim = 1，列上进行增加"
   ]
  },
  {
   "cell_type": "code",
   "execution_count": 53,
   "metadata": {
    "ExecuteTime": {
     "end_time": "2019-08-28T02:15:29.617122Z",
     "start_time": "2019-08-28T02:15:29.611140Z"
    }
   },
   "outputs": [
    {
     "data": {
      "text/plain": [
       "\n",
       "[[ 0.  1.  2.  3.]\n",
       " [ 4.  5.  6.  7.]\n",
       " [ 8.  9. 10. 11.]\n",
       " [ 2.  2.  2.  2.]\n",
       " [ 2.  2.  2.  2.]\n",
       " [ 2.  2.  2.  2.]]\n",
       "<NDArray 6x4 @cpu(0)>"
      ]
     },
     "execution_count": 53,
     "metadata": {},
     "output_type": "execute_result"
    }
   ],
   "source": [
    "nd.concat(X,Y, dim = 0)"
   ]
  },
  {
   "cell_type": "code",
   "execution_count": 57,
   "metadata": {
    "ExecuteTime": {
     "end_time": "2019-08-28T02:19:15.586795Z",
     "start_time": "2019-08-28T02:19:15.581735Z"
    }
   },
   "outputs": [
    {
     "data": {
      "text/plain": [
       "(\n",
       " [[ 0.  4.  8.]\n",
       "  [ 1.  5.  9.]\n",
       "  [ 2.  6. 10.]\n",
       "  [ 3.  7. 11.]]\n",
       " <NDArray 4x3 @cpu(0)>, \n",
       " [[ 0.  1.  2.]\n",
       "  [ 3.  4.  5.]\n",
       "  [ 6.  7.  8.]\n",
       "  [ 9. 10. 11.]]\n",
       " <NDArray 4x3 @cpu(0)>)"
      ]
     },
     "execution_count": 57,
     "metadata": {},
     "output_type": "execute_result"
    }
   ],
   "source": [
    "# 条件判断式\n",
    "# 判断对应位置元素是否相同\n",
    "X.T, nd.arange(12).reshape(4, -1)"
   ]
  },
  {
   "cell_type": "code",
   "execution_count": 58,
   "metadata": {
    "ExecuteTime": {
     "end_time": "2019-08-28T02:19:31.824157Z",
     "start_time": "2019-08-28T02:19:31.817141Z"
    }
   },
   "outputs": [
    {
     "data": {
      "text/plain": [
       "\n",
       "[[1. 0. 0.]\n",
       " [0. 0. 0.]\n",
       " [0. 0. 0.]\n",
       " [0. 0. 1.]]\n",
       "<NDArray 4x3 @cpu(0)>"
      ]
     },
     "execution_count": 58,
     "metadata": {},
     "output_type": "execute_result"
    }
   ],
   "source": [
    "X.T ==  nd.arange(12).reshape(4, -1)"
   ]
  },
  {
   "cell_type": "code",
   "execution_count": 60,
   "metadata": {
    "ExecuteTime": {
     "end_time": "2019-08-28T02:22:07.022591Z",
     "start_time": "2019-08-28T02:22:07.010040Z"
    }
   },
   "outputs": [
    {
     "data": {
      "text/plain": [
       "\n",
       "[66.]\n",
       "<NDArray 1 @cpu(0)>"
      ]
     },
     "execution_count": 60,
     "metadata": {},
     "output_type": "execute_result"
    }
   ],
   "source": [
    "X.sum()\n",
    "# 返回一个1x1的NDarray"
   ]
  },
  {
   "cell_type": "code",
   "execution_count": 64,
   "metadata": {
    "ExecuteTime": {
     "end_time": "2019-08-28T02:25:43.824616Z",
     "start_time": "2019-08-28T02:25:43.808075Z"
    }
   },
   "outputs": [
    {
     "data": {
      "text/plain": [
       "\n",
       "[22.494442]\n",
       "<NDArray 1 @cpu(0)>"
      ]
     },
     "execution_count": 64,
     "metadata": {},
     "output_type": "execute_result"
    }
   ],
   "source": [
    "X.norm()"
   ]
  },
  {
   "cell_type": "markdown",
   "metadata": {},
   "source": [
    "- 上述X.exp()、X.sum()、X.norm()可以改写成nd.exp(X)、nd.sum(X)、nd.norm(X)\n",
    "- 1x1NAarray可以用asscalar()函数转化为python中的标量"
   ]
  },
  {
   "cell_type": "markdown",
   "metadata": {},
   "source": [
    "##### 广播机制\n",
    "- 只有形状不同的数组都可以复制成相同形状的条件下，才能触发广播机制"
   ]
  },
  {
   "cell_type": "code",
   "execution_count": 67,
   "metadata": {
    "ExecuteTime": {
     "end_time": "2019-08-28T02:35:55.987641Z",
     "start_time": "2019-08-28T02:35:55.979703Z"
    }
   },
   "outputs": [
    {
     "data": {
      "text/plain": [
       "(\n",
       " [[0.]\n",
       "  [1.]\n",
       "  [2.]]\n",
       " <NDArray 3x1 @cpu(0)>, \n",
       " [[0. 1.]]\n",
       " <NDArray 1x2 @cpu(0)>)"
      ]
     },
     "execution_count": 67,
     "metadata": {},
     "output_type": "execute_result"
    }
   ],
   "source": [
    "A = nd.arange(3).reshape((3,1))\n",
    "B = nd.arange(2).reshape((1, 2))\n",
    "A, B"
   ]
  },
  {
   "cell_type": "code",
   "execution_count": 68,
   "metadata": {
    "ExecuteTime": {
     "end_time": "2019-08-28T02:36:06.912891Z",
     "start_time": "2019-08-28T02:36:06.905910Z"
    }
   },
   "outputs": [
    {
     "data": {
      "text/plain": [
       "\n",
       "[[0. 1.]\n",
       " [1. 2.]\n",
       " [2. 3.]]\n",
       "<NDArray 3x2 @cpu(0)>"
      ]
     },
     "execution_count": 68,
     "metadata": {},
     "output_type": "execute_result"
    }
   ],
   "source": [
    "A + B"
   ]
  },
  {
   "cell_type": "markdown",
   "metadata": {},
   "source": [
    "###### 索引\n",
    "- 遵循左闭右开的原则\n",
    "- 索引从0开始\n",
    "- 索引截取范围采用‘:’，例：【1：3】表示索引为1,2的两部分"
   ]
  },
  {
   "cell_type": "code",
   "execution_count": 73,
   "metadata": {
    "ExecuteTime": {
     "end_time": "2019-08-28T02:43:13.127449Z",
     "start_time": "2019-08-28T02:43:13.111597Z"
    }
   },
   "outputs": [
    {
     "name": "stdout",
     "output_type": "stream",
     "text": [
      "\n",
      "[[ 0.  1.  2.  3.]\n",
      " [ 4.  5.  6.  7.]\n",
      " [ 8.  9. 10. 11.]]\n",
      "<NDArray 3x4 @cpu(0)>\n"
     ]
    },
    {
     "data": {
      "text/plain": [
       "\n",
       "[10.]\n",
       "<NDArray 1 @cpu(0)>"
      ]
     },
     "execution_count": 73,
     "metadata": {},
     "output_type": "execute_result"
    }
   ],
   "source": [
    "print(X)\n",
    "X[2,2]"
   ]
  },
  {
   "cell_type": "code",
   "execution_count": 74,
   "metadata": {
    "ExecuteTime": {
     "end_time": "2019-08-28T02:47:20.932686Z",
     "start_time": "2019-08-28T02:47:20.927717Z"
    }
   },
   "outputs": [
    {
     "data": {
      "text/plain": [
       "\n",
       "[[ 4.  5.  6.  7.]\n",
       " [ 8.  9. 10. 11.]]\n",
       "<NDArray 2x4 @cpu(0)>"
      ]
     },
     "execution_count": 74,
     "metadata": {},
     "output_type": "execute_result"
    }
   ],
   "source": [
    "X[1:3]"
   ]
  },
  {
   "cell_type": "markdown",
   "metadata": {},
   "source": [
    "#### 自动求梯度\n",
    "1. 申请存储梯度内存x.attach_grad()\n",
    "2. 调用autograd.record()记录求解梯度相关计算\n",
    "3. 调用y.backward()计算函数y对x的导数\n",
    "   - 当y结果不是标量时，会默认对y中的元素求和后，再计算相关梯度"
   ]
  },
  {
   "cell_type": "code",
   "execution_count": 75,
   "metadata": {
    "ExecuteTime": {
     "end_time": "2019-08-28T02:56:05.657092Z",
     "start_time": "2019-08-28T02:56:05.653071Z"
    }
   },
   "outputs": [],
   "source": [
    "from mxnet import nd, autograd"
   ]
  },
  {
   "cell_type": "code",
   "execution_count": 84,
   "metadata": {
    "ExecuteTime": {
     "end_time": "2019-08-28T03:09:53.319265Z",
     "start_time": "2019-08-28T03:09:53.312283Z"
    }
   },
   "outputs": [
    {
     "data": {
      "text/plain": [
       "\n",
       "[[0.]\n",
       " [1.]\n",
       " [2.]\n",
       " [3.]]\n",
       "<NDArray 4x1 @cpu(0)>"
      ]
     },
     "execution_count": 84,
     "metadata": {},
     "output_type": "execute_result"
    }
   ],
   "source": [
    "x = nd.arange(4).reshape((4,1))\n",
    "x"
   ]
  },
  {
   "cell_type": "code",
   "execution_count": 85,
   "metadata": {
    "ExecuteTime": {
     "end_time": "2019-08-28T03:09:54.815460Z",
     "start_time": "2019-08-28T03:09:54.811470Z"
    }
   },
   "outputs": [],
   "source": [
    "x.attach_grad()\n",
    "# 申请存储梯度所需的内存"
   ]
  },
  {
   "cell_type": "code",
   "execution_count": 86,
   "metadata": {
    "ExecuteTime": {
     "end_time": "2019-08-28T03:09:57.282781Z",
     "start_time": "2019-08-28T03:09:57.277795Z"
    }
   },
   "outputs": [],
   "source": [
    "with autograd.record():\n",
    "# 调用record时才会记录求梯度的有关计算\n",
    "    y = 2 * nd.dot(x.T, x) #y的形状是一个标量"
   ]
  },
  {
   "cell_type": "code",
   "execution_count": 87,
   "metadata": {
    "ExecuteTime": {
     "end_time": "2019-08-28T03:10:00.627236Z",
     "start_time": "2019-08-28T03:10:00.623286Z"
    }
   },
   "outputs": [],
   "source": [
    "y.backward()\n",
    "# 调用backward对之前申请的x自动求导，即2x平方的对x求导数"
   ]
  },
  {
   "cell_type": "code",
   "execution_count": 88,
   "metadata": {
    "ExecuteTime": {
     "end_time": "2019-08-28T03:10:03.090668Z",
     "start_time": "2019-08-28T03:10:03.086688Z"
    }
   },
   "outputs": [
    {
     "data": {
      "text/plain": [
       "\n",
       "[[ 0.]\n",
       " [ 4.]\n",
       " [ 8.]\n",
       " [12.]]\n",
       "<NDArray 4x1 @cpu(0)>"
      ]
     },
     "execution_count": 88,
     "metadata": {},
     "output_type": "execute_result"
    }
   ],
   "source": [
    "x.grad"
   ]
  },
  {
   "cell_type": "code",
   "execution_count": 92,
   "metadata": {
    "ExecuteTime": {
     "end_time": "2019-08-28T03:24:25.761022Z",
     "start_time": "2019-08-28T03:24:25.752574Z"
    }
   },
   "outputs": [
    {
     "name": "stdout",
     "output_type": "stream",
     "text": [
      "(4, 4)\n"
     ]
    },
    {
     "data": {
      "text/plain": [
       "(\n",
       " [[ 0.  0.  0.  0.]\n",
       "  [ 0.  2.  4.  6.]\n",
       "  [ 0.  4.  8. 12.]\n",
       "  [ 0.  6. 12. 18.]]\n",
       " <NDArray 4x4 @cpu(0)>, \n",
       " [[24.]\n",
       "  [24.]\n",
       "  [24.]\n",
       "  [24.]]\n",
       " <NDArray 4x1 @cpu(0)>)"
      ]
     },
     "execution_count": 92,
     "metadata": {},
     "output_type": "execute_result"
    }
   ],
   "source": [
    "x.attach_grad()\n",
    "# 申请存储梯度所需的内存\n",
    "with autograd.record():\n",
    "# 调用record时才会记录求梯度的有关计算\n",
    "    y = 2 * nd.dot(x, x.T) \n",
    "    print(y.shape)\n",
    "y.backward()\n",
    "y, x.grad"
   ]
  },
  {
   "cell_type": "code",
   "execution_count": null,
   "metadata": {},
   "outputs": [],
   "source": []
  }
 ],
 "metadata": {
  "kernelspec": {
   "display_name": "Python 3",
   "language": "python",
   "name": "python3"
  },
  "language_info": {
   "codemirror_mode": {
    "name": "ipython",
    "version": 3
   },
   "file_extension": ".py",
   "mimetype": "text/x-python",
   "name": "python",
   "nbconvert_exporter": "python",
   "pygments_lexer": "ipython3",
   "version": "3.6.9"
  }
 },
 "nbformat": 4,
 "nbformat_minor": 2
}
